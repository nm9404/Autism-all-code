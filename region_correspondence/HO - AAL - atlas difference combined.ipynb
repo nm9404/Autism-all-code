{
 "cells": [
  {
   "cell_type": "code",
   "execution_count": 1,
   "metadata": {},
   "outputs": [],
   "source": [
    "import nibabel as nib\n",
    "import pandas as pd\n",
    "import numpy as np\n",
    "from tqdm import tqdm\n",
    "import os\n",
    "import json"
   ]
  },
  {
   "cell_type": "code",
   "execution_count": 9,
   "metadata": {},
   "outputs": [],
   "source": [
    "ho_sub_path = os.path.join('harvard-oxford', 'HarvardOxford-sub-maxprob-thr0-1mm.nii.gz')\n",
    "ho_cor_path = os.path.join('harvard-oxford', 'HarvardOxford-cortl-maxprob-thr0-1mm.nii.gz')\n",
    "aal_path = 'aal_combined.nii.gz'"
   ]
  },
  {
   "cell_type": "code",
   "execution_count": 10,
   "metadata": {},
   "outputs": [],
   "source": [
    "ho_cor = nib.load(ho_cor_path)\n",
    "ho_sub = nib.load(ho_sub_path) \n",
    "aal = nib.load(aal_path)\n",
    "affine = ho_cor.affine"
   ]
  },
  {
   "cell_type": "code",
   "execution_count": 11,
   "metadata": {},
   "outputs": [],
   "source": [
    "template = nib.load('MNI152_T1_1mm_brain.nii.gz').get_fdata()\n",
    "ho_cor_v = ho_cor.get_fdata()\n",
    "ho_sub_v = ho_sub.get_fdata() \n",
    "aal_v = aal.get_fdata()"
   ]
  },
  {
   "cell_type": "code",
   "execution_count": 23,
   "metadata": {},
   "outputs": [],
   "source": [
    "def get_atlas(atlas_name, atlases=[ho_cor_v, ho_sub_v, aal_v]):\n",
    "    if atlas_name == 'harvard-cortical':\n",
    "        return ho_cor_v\n",
    "    if atlas_name == 'harvard-sub':\n",
    "        return ho_sub_v\n",
    "    if atlas_name == 'aal':\n",
    "        return aal_v\n",
    "    if atlas_name == \"aal combined\":\n",
    "        return aal_v"
   ]
  },
  {
   "cell_type": "code",
   "execution_count": 24,
   "metadata": {},
   "outputs": [],
   "source": [
    "def obtain_region_mask(region_group, fnum, template=template):\n",
    "    mask = np.zeros(template.shape)\n",
    "    for r in region_group:\n",
    "        atlas = get_atlas(r['atlas'])\n",
    "        num = r['region_number']\n",
    "        mask+=((atlas==num).astype(np.int16))\n",
    "    #print(mask.sum())\n",
    "    return fnum*(mask>0).astype(np.int16)\n",
    "    "
   ]
  },
  {
   "cell_type": "code",
   "execution_count": 25,
   "metadata": {},
   "outputs": [],
   "source": [
    "def region_difference(groupA, groupB, fnum):\n",
    "    A = obtain_region_mask(groupA, 9999)\n",
    "    B = obtain_region_mask(groupB, fnum)\n",
    "    dif = np.abs(A-B)\n",
    "    return fnum*((dif==fnum).astype(np.int16))"
   ]
  },
  {
   "cell_type": "code",
   "execution_count": 26,
   "metadata": {},
   "outputs": [],
   "source": [
    "with open('aal_ho_difference_combined.json') as f:\n",
    "    regions_data = json.load(f)"
   ]
  },
  {
   "cell_type": "code",
   "execution_count": 27,
   "metadata": {},
   "outputs": [
    {
     "name": "stdout",
     "output_type": "stream",
     "text": [
      "{'number': 1, 'A': [{'region_name': 'left amygdala', 'region_number': 10, 'atlas': 'harvard-sub'}], 'B': [{'region_name': 'left amygdala', 'region_number': 1, 'atlas': 'aal combined'}]}\n"
     ]
    },
    {
     "data": {
      "text/plain": [
       "385"
      ]
     },
     "execution_count": 27,
     "metadata": {},
     "output_type": "execute_result"
    }
   ],
   "source": [
    "sample = regions_data['left amygdala']\n",
    "print(regions_data[\"left amygdala\"])\n",
    "((region_difference(sample['A'], sample['B'], sample['number']))==sample['number']).sum()"
   ]
  },
  {
   "cell_type": "code",
   "execution_count": 28,
   "metadata": {},
   "outputs": [
    {
     "name": "stderr",
     "output_type": "stream",
     "text": [
      "100%|██████████████████████████████████████████████████████████████████████████████████| 13/13 [00:05<00:00,  2.29it/s]\n"
     ]
    }
   ],
   "source": [
    "regions = list(regions_data.keys())\n",
    "fnums = []\n",
    "new_vol = np.zeros(template.shape)\n",
    "for r in tqdm(regions):\n",
    "    RA = regions_data[r]['A']\n",
    "    RB = regions_data[r]['B']\n",
    "    fnum = regions_data[r]['number']\n",
    "    fnums.append(fnum)\n",
    "    dif = region_difference(RA, RB, fnum)\n",
    "    new_vol+=dif\n",
    "pd.DataFrame({'name':regions, 'index':fnums}).to_csv('differences_ho_aal_combined.csv', index=False)"
   ]
  },
  {
   "cell_type": "code",
   "execution_count": 29,
   "metadata": {},
   "outputs": [],
   "source": [
    "dif_at = nib.Nifti1Image(new_vol, affine)\n",
    "nib.save(dif_at, 'differences_ho_aal_combined.nii.gz')"
   ]
  },
  {
   "cell_type": "code",
   "execution_count": null,
   "metadata": {},
   "outputs": [],
   "source": []
  }
 ],
 "metadata": {
  "kernelspec": {
   "display_name": "Python 3",
   "language": "python",
   "name": "python3"
  },
  "language_info": {
   "codemirror_mode": {
    "name": "ipython",
    "version": 3
   },
   "file_extension": ".py",
   "mimetype": "text/x-python",
   "name": "python",
   "nbconvert_exporter": "python",
   "pygments_lexer": "ipython3",
   "version": "3.8.2"
  }
 },
 "nbformat": 4,
 "nbformat_minor": 4
}
