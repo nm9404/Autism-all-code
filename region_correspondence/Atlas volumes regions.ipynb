{
 "cells": [
  {
   "cell_type": "code",
   "execution_count": 1,
   "metadata": {},
   "outputs": [],
   "source": [
    "import nibabel as nib\n",
    "import numpy as np\n",
    "from matplotlib import pyplot as plt\n",
    "import os\n",
    "import json\n",
    "import pandas as pd\n",
    "from tqdm import tqdm"
   ]
  },
  {
   "cell_type": "code",
   "execution_count": 2,
   "metadata": {},
   "outputs": [
    {
     "name": "stdout",
     "output_type": "stream",
     "text": [
      " El volumen de la unidad C es Local Disk\n",
      " El n£mero de serie del volumen es: 78AA-5A8A\n",
      "\n",
      " Directorio de C:\\Users\\n_940\\Documents\\UNAL\\Temporal_U_Militar\\desikan-killiany\n",
      "\n",
      "12/08/2021  08:08 p. m.    <DIR>          .\n",
      "12/08/2021  08:08 p. m.    <DIR>          ..\n",
      "12/08/2021  08:04 p. m.    <DIR>          .ipynb_checkpoints\n",
      "30/07/2021  01:17 p. m.             1.416 aal to HO.csv\n",
      "22/07/2021  10:02 p. m.            13.538 aal-comparison-HO-noreg.csv\n",
      "04/08/2021  09:02 p. m.            13.238 aal-comparison-HO.csv\n",
      "04/08/2021  08:37 p. m.             5.923 aal_ho_difference.json\n",
      "29/07/2021  11:15 p. m.           749.766 aal_transformed_roi.nii.gz\n",
      "22/07/2021  10:14 p. m.            15.557 aicha-comparison-HO-noreg.csv\n",
      "23/07/2021  05:47 p. m.            31.505 aicha-comparison-HO.csv\n",
      "04/08/2021  09:02 p. m.           110.946 Atlas volumes regions.ipynb\n",
      "13/07/2021  07:24 p. m.    <DIR>          atlas_correc\n",
      "23/04/2021  05:05 p. m.           300.393 atlas_desikan_killiany.nii.gz\n",
      "02/07/2021  08:36 a. m.             9.697 comparison_regions.csv\n",
      "02/07/2021  09:57 a. m.             9.688 comparison_regions_dice.csv\n",
      "02/07/2021  09:02 a. m.            33.561 desikan_groups.xlsx\n",
      "28/04/2021  08:08 a. m.             2.883 desikan_labels.csv\n",
      "30/06/2021  11:47 p. m.         5.620.675 desikan_seg.nii.gz\n",
      "13/07/2021  08:37 p. m.            17.734 destrieux-comparison-HO.csv\n",
      "12/08/2021  08:06 p. m.               464 differences_ho_aal.csv\n",
      "04/08/2021  09:34 p. m.           378.435 differences_ho_aal.nii.gz\n",
      "12/08/2021  08:06 p. m.           364.078 differences_ho_aal_inverse.nii.gz\n",
      "08/07/2021  08:47 p. m.    <DIR>          ejemplo\n",
      "23/07/2021  10:44 a. m.    <DIR>          harvard-oxford\n",
      "12/08/2021  08:08 p. m.             4.850 HO - AAL - atlas difference-Inverse.ipynb\n",
      "04/08/2021  09:36 p. m.             4.853 HO - AAL - atlas difference.ipynb\n",
      "30/01/2020  11:52 a. m.         3.219.212 MNI152_T1_1mm_brain.nii.gz\n",
      "13/07/2021  08:47 p. m.            13.020 neuro-comparison-HO.csv\n",
      "22/07/2021  09:16 p. m.    <DIR>          new atlas\n",
      "13/07/2021  06:57 p. m.    <DIR>          otros atlas\n",
      "15/07/2021  08:21 p. m.             5.503 regions-comparison-interest.json\n",
      "01/07/2021  09:21 a. m.             3.272 regions-comparison.json\n",
      "28/04/2021  08:37 a. m.             6.141 rewarp-desikan-killiany.py\n",
      "29/07/2021  02:27 p. m.    <DIR>          sample warp\n",
      "30/06/2021  08:21 p. m.    <DIR>          sample_subject_vol\n",
      "22/07/2021  08:20 p. m.    <DIR>          tests_atlas\n",
      "30/07/2021  01:17 p. m.            47.677 Untitled.ipynb\n",
      "              26 archivos     10.984.025 bytes\n",
      "              11 dirs     680.951.808 bytes libres\n"
     ]
    }
   ],
   "source": [
    "!dir"
   ]
  },
  {
   "cell_type": "code",
   "execution_count": 3,
   "metadata": {
    "scrolled": true
   },
   "outputs": [
    {
     "name": "stdout",
     "output_type": "stream",
     "text": [
      "volumen MNI 152:  1827095\n",
      "volumen todo archivo:  7221032\n"
     ]
    }
   ],
   "source": [
    "template = nib.load('MNI152_T1_1mm_brain.nii.gz').get_fdata()\n",
    "MNI_vol = (template>0).sum()\n",
    "print('volumen MNI 152: ', (template>0).sum())\n",
    "print('volumen todo archivo: ', (template>-1).sum())"
   ]
  },
  {
   "cell_type": "code",
   "execution_count": 4,
   "metadata": {},
   "outputs": [
    {
     "name": "stdout",
     "output_type": "stream",
     "text": [
      "desikan reg:  23562\n",
      "desikan reg norm:  0.012895881166551274\n"
     ]
    }
   ],
   "source": [
    "desikan = nib.load('atlas_desikan_killiany.nii.gz').get_fdata()\n",
    "num_region = 1028\n",
    "desikan_reg = (desikan==num_region).sum()\n",
    "print('desikan reg: ', desikan_reg)\n",
    "print('desikan reg norm: ', (desikan_reg/MNI_vol))"
   ]
  },
  {
   "cell_type": "code",
   "execution_count": 5,
   "metadata": {},
   "outputs": [
    {
     "name": "stdout",
     "output_type": "stream",
     "text": [
      "new desikan reg:  1213\n",
      "new desikan reg norm:  0.0006638954186837575\n"
     ]
    }
   ],
   "source": [
    "\n",
    "desikan_new = nib.load('desikan_seg.nii.gz').get_fdata()\n",
    "num_region = 18\n",
    "desikan_reg_n = (desikan_new==num_region).sum()\n",
    "print('new desikan reg: ', desikan_reg_n)\n",
    "print('new desikan reg norm: ', desikan_reg_n/MNI_vol)"
   ]
  },
  {
   "cell_type": "code",
   "execution_count": 6,
   "metadata": {},
   "outputs": [],
   "source": [
    "harvard_oxford_cor = nib.load(os.path.join('harvard-oxford', 'HarvardOxford-cortl-maxprob-thr25-1mm.nii.gz')).get_fdata()\n",
    "harvard_oxford_sub = nib.load(os.path.join('harvard-oxford', 'HarvardOxford-sub-maxprob-thr50-1mm.nii.gz')).get_fdata()"
   ]
  },
  {
   "cell_type": "code",
   "execution_count": 7,
   "metadata": {},
   "outputs": [
    {
     "name": "stdout",
     "output_type": "stream",
     "text": [
      "harvard cort region:  5906\n",
      "harvard cort region norm:  0.0032324537038303973\n"
     ]
    }
   ],
   "source": [
    "num_h_cort_reg = 51\n",
    "harvard_cort_reg = (harvard_oxford_cor == num_h_cort_reg).sum()\n",
    "print('harvard cort region: ', harvard_cort_reg)\n",
    "print('harvard cort region norm: ', (harvard_cort_reg/MNI_vol))"
   ]
  },
  {
   "cell_type": "code",
   "execution_count": 8,
   "metadata": {},
   "outputs": [
    {
     "name": "stdout",
     "output_type": "stream",
     "text": [
      "harvard sub region:  2272\n",
      "harvard sub region norm:  0.001243504032357376\n"
     ]
    }
   ],
   "source": [
    "num_sub_reg = 20\n",
    "harvard_sub_reg = (harvard_oxford_sub == num_sub_reg).sum()\n",
    "print('harvard sub region: ', harvard_sub_reg)\n",
    "print('harvard sub region norm: ', (harvard_sub_reg/MNI_vol))"
   ]
  },
  {
   "cell_type": "code",
   "execution_count": 9,
   "metadata": {},
   "outputs": [],
   "source": [
    "def add_one_vox_pad(vol):\n",
    "    h,w,k=vol.shape\n",
    "    new_vol = np.zeros((h+1,w+1,k+1))\n",
    "    new_vol[:h,:w,:k]=vol\n",
    "    return new_vol"
   ]
  },
  {
   "cell_type": "code",
   "execution_count": null,
   "metadata": {},
   "outputs": [],
   "source": []
  },
  {
   "cell_type": "code",
   "execution_count": 10,
   "metadata": {},
   "outputs": [],
   "source": [
    "#aal = add_one_vox_pad(nib.load('new atlas/AAL3v1_for_SPM12 (1)/AAL3/ROI_MNI_V7_1mm.nii').get_fdata())\n",
    "aal = nib.load('aal_transformed_roi.nii.gz').get_fdata()\n",
    "aicha = add_one_vox_pad(nib.load('new atlas/AICHA_v2/AICHA/AICHA1mm.nii').get_fdata())\n",
    "destrieux = nib.load('otros atlas/atlas_destrieux.nii.gz').get_fdata()\n",
    "#neuro = nib.load('atlas_correc/neuromorphometrics_seg.nii.gz').get_fdata()"
   ]
  },
  {
   "cell_type": "code",
   "execution_count": 11,
   "metadata": {},
   "outputs": [
    {
     "name": "stdout",
     "output_type": "stream",
     "text": [
      "[[0. 1.]\n",
      " [1. 1.]\n",
      " [2. 1.]]\n"
     ]
    }
   ],
   "source": [
    "from nibabel.orientations import apply_orientation, io_orientation, ornt_transform\n",
    "aal_raw = nib.load('new atlas/AAL3v1_for_SPM12 (1)/AAL3/ROI_MNI_V7_1mm.nii')\n",
    "aal_affine = aal_raw.affine\n",
    "io_aal = io_orientation(aal_affine)\n",
    "\n",
    "print(io_aal)\n",
    "\n"
   ]
  },
  {
   "cell_type": "code",
   "execution_count": 12,
   "metadata": {},
   "outputs": [],
   "source": [
    "ho_raw = nib.load(os.path.join('harvard-oxford', 'HarvardOxford-sub-maxprob-thr50-1mm.nii.gz'))\n",
    "io_ho = io_orientation(ho_raw.affine)\n",
    "transform = ornt_transform(io_aal,io_ho)\n",
    "aal_transformed = add_one_vox_pad(apply_orientation(aal_raw.get_fdata(), transform))"
   ]
  },
  {
   "cell_type": "code",
   "execution_count": 13,
   "metadata": {},
   "outputs": [
    {
     "data": {
      "text/plain": [
       "<matplotlib.image.AxesImage at 0x19ca0afe910>"
      ]
     },
     "execution_count": 13,
     "metadata": {},
     "output_type": "execute_result"
    },
    {
     "data": {
      "image/png": "[encoded data removed]",
      "text/plain": [
       "<Figure size 432x288 with 1 Axes>"
      ]
     },
     "metadata": {
      "needs_background": "light"
     },
     "output_type": "display_data"
    }
   ],
   "source": [
    "plt.imshow(aal_transformed[100,:,:])"
   ]
  },
  {
   "cell_type": "code",
   "execution_count": null,
   "metadata": {},
   "outputs": [],
   "source": []
  },
  {
   "cell_type": "markdown",
   "metadata": {},
   "source": [
    "## 2 Compute dice score between HO and DKT regions\n",
    "We'll use binary masks to compute the dice score between a HO and a DKT region as $$ IoU(A,B) = \\frac{A\\cap B}{A\\cup B} $$"
   ]
  },
  {
   "cell_type": "code",
   "execution_count": 14,
   "metadata": {},
   "outputs": [],
   "source": [
    "def IoU(A,B):\n",
    "    union = ((A+B)>0).astype(np.uint8)\n",
    "    intersection = A*B\n",
    "    return intersection.sum() / union.sum()"
   ]
  },
  {
   "cell_type": "code",
   "execution_count": 15,
   "metadata": {},
   "outputs": [],
   "source": [
    "def dice_score(A,B):\n",
    "    intersection = A*B\n",
    "    num_elems = A.sum() + B.sum()\n",
    "    return 2*intersection.sum() / num_elems"
   ]
  },
  {
   "cell_type": "code",
   "execution_count": 35,
   "metadata": {},
   "outputs": [],
   "source": [
    "def probability_ref_A(A,B):\n",
    "    intersection = A*B\n",
    "    num_elems = A.sum()\n",
    "    return intersection.sum() / num_elems"
   ]
  },
  {
   "cell_type": "code",
   "execution_count": 36,
   "metadata": {},
   "outputs": [],
   "source": [
    "def probability_ref_B(A,B):\n",
    "    intersection = A*B\n",
    "    num_elems = B.sum()\n",
    "    return intersection.sum() / num_elems"
   ]
  },
  {
   "cell_type": "code",
   "execution_count": 37,
   "metadata": {},
   "outputs": [],
   "source": [
    "def select_atlas(atlas_name, atlases=[harvard_oxford_cor, harvard_oxford_sub, desikan_new,\n",
    "                                     aal, aicha, destrieux]):\n",
    "    if atlas_name=='harvard-cortical':\n",
    "        return atlases[0]\n",
    "    if atlas_name=='harvard-sub':\n",
    "        return atlases[1]\n",
    "    if atlas_name=='desikan':\n",
    "        return atlases[2]\n",
    "    if atlas_name=='aal':\n",
    "        return atlases[3]\n",
    "    if atlas_name=='aicha':\n",
    "        return atlases[4]\n",
    "    if atlas_name=='destrieux':\n",
    "        return atlases[5]\n",
    "    #if atlas_name=='neuro':\n",
    "     #   return atlases[6]"
   ]
  },
  {
   "cell_type": "code",
   "execution_count": 38,
   "metadata": {},
   "outputs": [],
   "source": [
    "def obtain_region_mask(region_group, template=template):\n",
    "    mask = np.zeros(template.shape)\n",
    "    for r in region_group:\n",
    "        atlas = select_atlas(r['atlas'])\n",
    "        num = r['region_number']\n",
    "        mask+=((atlas==num).astype(np.uint8))\n",
    "    return (mask>0).astype(np.uint8)"
   ]
  },
  {
   "cell_type": "code",
   "execution_count": 39,
   "metadata": {},
   "outputs": [],
   "source": [
    "def compare_region_groups(A,B):\n",
    "    gA = obtain_region_mask(A)\n",
    "    gB = obtain_region_mask(B)\n",
    "    return dice_score(gA, gB), IoU(gA,gB), probability_ref_A(gA, gB), probability_ref_B(gA, gB)"
   ]
  },
  {
   "cell_type": "code",
   "execution_count": 40,
   "metadata": {},
   "outputs": [],
   "source": [
    "def obtain_region_volume(A):\n",
    "    gA = obtain_region_mask(A)\n",
    "    return gA.sum()"
   ]
  },
  {
   "cell_type": "code",
   "execution_count": 41,
   "metadata": {},
   "outputs": [],
   "source": [
    "rA = [{'region_name': 'left amygdala', 'region_number': 10, 'atlas':'harvard-sub'}]\n",
    "rB = [{'region_name': 'left amygdala', 'region_number': 18, 'atlas':'desikan'}]"
   ]
  },
  {
   "cell_type": "code",
   "execution_count": 42,
   "metadata": {},
   "outputs": [
    {
     "data": {
      "text/plain": [
       "(0.6491392801251956,\n",
       " 0.48053753475440225,\n",
       " 0.5232088799192735,\n",
       " 0.8549051937345424)"
      ]
     },
     "execution_count": 42,
     "metadata": {},
     "output_type": "execute_result"
    }
   ],
   "source": [
    "compare_region_groups(rA, rB)"
   ]
  },
  {
   "cell_type": "code",
   "execution_count": 43,
   "metadata": {},
   "outputs": [
    {
     "data": {
      "text/plain": [
       "(0.6491392801251956,\n",
       " 0.48053753475440225,\n",
       " 0.5232088799192735,\n",
       " 0.8549051937345424)"
      ]
     },
     "execution_count": 43,
     "metadata": {},
     "output_type": "execute_result"
    }
   ],
   "source": [
    "rA = [{'region_name': 'right amygdala', 'region_number': 10, 'atlas':'harvard-sub'}]\n",
    "rB = [{'region_name': 'right amygdala', 'region_number': 18, 'atlas':'desikan'}]\n",
    "compare_region_groups(rA, rB)"
   ]
  },
  {
   "cell_type": "code",
   "execution_count": 44,
   "metadata": {},
   "outputs": [
    {
     "data": {
      "text/plain": [
       "(0.24954067145481879,\n",
       " 0.14255725190839694,\n",
       " 0.18467243510506798,\n",
       " 0.3846549948506694)"
      ]
     },
     "execution_count": 44,
     "metadata": {},
     "output_type": "execute_result"
    }
   ],
   "source": [
    "rA = [{'region_name': 'left frontal medial cortex', 'region_number': 50, 'atlas':'harvard-cortical'}]\n",
    "rB = [{'region_name': 'ctx-lh-medialorbitofrontal', 'region_number': 2014, 'atlas':'desikan'}]\n",
    "compare_region_groups(rA, rB)"
   ]
  },
  {
   "cell_type": "code",
   "execution_count": 45,
   "metadata": {},
   "outputs": [
    {
     "data": {
      "text/plain": [
       "<matplotlib.image.AxesImage at 0x19ca0d0cd90>"
      ]
     },
     "execution_count": 45,
     "metadata": {},
     "output_type": "execute_result"
    },
    {
     "data": {
      "image/png": "[encoded data removed]",
      "text/plain": [
       "<Figure size 432x288 with 1 Axes>"
      ]
     },
     "metadata": {
      "needs_background": "light"
     },
     "output_type": "display_data"
    }
   ],
   "source": [
    "plt.imshow(aal[100,:,:])"
   ]
  },
  {
   "cell_type": "code",
   "execution_count": 46,
   "metadata": {},
   "outputs": [
    {
     "data": {
      "text/plain": [
       "<matplotlib.image.AxesImage at 0x19ca0d687c0>"
      ]
     },
     "execution_count": 46,
     "metadata": {},
     "output_type": "execute_result"
    },
    {
     "data": {
      "image/png": "[encoded data removed]",
      "text/plain": [
       "<Figure size 432x288 with 1 Axes>"
      ]
     },
     "metadata": {
      "needs_background": "light"
     },
     "output_type": "display_data"
    }
   ],
   "source": [
    "plt.imshow(aicha[100,:,:])"
   ]
  },
  {
   "cell_type": "code",
   "execution_count": 47,
   "metadata": {},
   "outputs": [
    {
     "data": {
      "text/plain": [
       "<matplotlib.image.AxesImage at 0x19ca0dbdfd0>"
      ]
     },
     "execution_count": 47,
     "metadata": {},
     "output_type": "execute_result"
    },
    {
     "data": {
      "image/png": "[encoded data removed]",
      "text/plain": [
       "<Figure size 432x288 with 1 Axes>"
      ]
     },
     "metadata": {
      "needs_background": "light"
     },
     "output_type": "display_data"
    }
   ],
   "source": [
    "plt.imshow(harvard_oxford_sub[100,:,:])"
   ]
  },
  {
   "cell_type": "markdown",
   "metadata": {},
   "source": [
    "## 3. Load json to do the experiment in a group of regions"
   ]
  },
  {
   "cell_type": "code",
   "execution_count": 48,
   "metadata": {},
   "outputs": [],
   "source": [
    "with open('regions-comparison-interest.json') as f:\n",
    "    data = json.load(f)"
   ]
  },
  {
   "cell_type": "code",
   "execution_count": 51,
   "metadata": {},
   "outputs": [],
   "source": [
    "results_dice = {'region':[], 'dice_score':[], 'prob_ref_A':[], 'prob_ref_B':[],'Harvard volume':[], 'Desikan volume':[]}\n",
    "for region in data:\n",
    "    region_dict = data[region]\n",
    "    comparison = compare_region_groups(region_dict['A'], region_dict['B'])\n",
    "    results_dice['region'].append(region)\n",
    "    results_dice['dice_score'].append(comparison[0])\n",
    "    results_dice['prob_ref_A'].append(comparison[-2])\n",
    "    results_dice['prob_ref_B'].append(comparison[-1])\n",
    "    #results_dice['IoU'].append(comparison[1])\n",
    "    results_dice['Harvard volume'].append(obtain_region_volume(region_dict['A']))\n",
    "    results_dice['Desikan volume'].append(obtain_region_volume(region_dict['B']))\n",
    "    "
   ]
  },
  {
   "cell_type": "code",
   "execution_count": 52,
   "metadata": {},
   "outputs": [
    {
     "data": {
      "text/html": [
       "<div>\n",
       "<style scoped>\n",
       "    .dataframe tbody tr th:only-of-type {\n",
       "        vertical-align: middle;\n",
       "    }\n",
       "\n",
       "    .dataframe tbody tr th {\n",
       "        vertical-align: top;\n",
       "    }\n",
       "\n",
       "    .dataframe thead th {\n",
       "        text-align: right;\n",
       "    }\n",
       "</style>\n",
       "<table border=\"1\" class=\"dataframe\">\n",
       "  <thead>\n",
       "    <tr style=\"text-align: right;\">\n",
       "      <th></th>\n",
       "      <th>region</th>\n",
       "      <th>dice_score</th>\n",
       "      <th>prob_ref_A</th>\n",
       "      <th>prob_ref_B</th>\n",
       "      <th>Harvard volume</th>\n",
       "      <th>Desikan volume</th>\n",
       "    </tr>\n",
       "  </thead>\n",
       "  <tbody>\n",
       "    <tr>\n",
       "      <th>1</th>\n",
       "      <td>right amygdala</td>\n",
       "      <td>0.668132</td>\n",
       "      <td>0.535211</td>\n",
       "      <td>0.888889</td>\n",
       "      <td>2272</td>\n",
       "      <td>1368</td>\n",
       "    </tr>\n",
       "    <tr>\n",
       "      <th>0</th>\n",
       "      <td>left amygdala</td>\n",
       "      <td>0.649139</td>\n",
       "      <td>0.523209</td>\n",
       "      <td>0.854905</td>\n",
       "      <td>1982</td>\n",
       "      <td>1213</td>\n",
       "    </tr>\n",
       "    <tr>\n",
       "      <th>4</th>\n",
       "      <td>right supramarginal gyrus, anterior division</td>\n",
       "      <td>0.321297</td>\n",
       "      <td>0.242030</td>\n",
       "      <td>0.477771</td>\n",
       "      <td>6305</td>\n",
       "      <td>3194</td>\n",
       "    </tr>\n",
       "    <tr>\n",
       "      <th>12</th>\n",
       "      <td>Right frontal medial cortex</td>\n",
       "      <td>0.249541</td>\n",
       "      <td>0.184672</td>\n",
       "      <td>0.384655</td>\n",
       "      <td>4045</td>\n",
       "      <td>1942</td>\n",
       "    </tr>\n",
       "    <tr>\n",
       "      <th>3</th>\n",
       "      <td>right cingulate gyrus, anterior division</td>\n",
       "      <td>0.207064</td>\n",
       "      <td>0.116161</td>\n",
       "      <td>0.952271</td>\n",
       "      <td>10649</td>\n",
       "      <td>1299</td>\n",
       "    </tr>\n",
       "    <tr>\n",
       "      <th>11</th>\n",
       "      <td>Left frontal medial cortex</td>\n",
       "      <td>0.203003</td>\n",
       "      <td>0.154079</td>\n",
       "      <td>0.297455</td>\n",
       "      <td>3641</td>\n",
       "      <td>1886</td>\n",
       "    </tr>\n",
       "    <tr>\n",
       "      <th>8</th>\n",
       "      <td>Left frontal pole</td>\n",
       "      <td>0.190047</td>\n",
       "      <td>0.107169</td>\n",
       "      <td>0.838460</td>\n",
       "      <td>55697</td>\n",
       "      <td>7119</td>\n",
       "    </tr>\n",
       "    <tr>\n",
       "      <th>6</th>\n",
       "      <td>Right temporal fusiform cortex, anterior division</td>\n",
       "      <td>0.187140</td>\n",
       "      <td>0.272610</td>\n",
       "      <td>0.142471</td>\n",
       "      <td>2322</td>\n",
       "      <td>4443</td>\n",
       "    </tr>\n",
       "    <tr>\n",
       "      <th>9</th>\n",
       "      <td>Right frontal pole</td>\n",
       "      <td>0.184941</td>\n",
       "      <td>0.104831</td>\n",
       "      <td>0.784255</td>\n",
       "      <td>64809</td>\n",
       "      <td>8663</td>\n",
       "    </tr>\n",
       "    <tr>\n",
       "      <th>13</th>\n",
       "      <td>Left juxtapositional lobule cortex</td>\n",
       "      <td>0.168885</td>\n",
       "      <td>0.242804</td>\n",
       "      <td>0.129469</td>\n",
       "      <td>5906</td>\n",
       "      <td>11076</td>\n",
       "    </tr>\n",
       "    <tr>\n",
       "      <th>10</th>\n",
       "      <td>Left angular gyrus</td>\n",
       "      <td>0.124638</td>\n",
       "      <td>0.101684</td>\n",
       "      <td>0.160978</td>\n",
       "      <td>7838</td>\n",
       "      <td>4951</td>\n",
       "    </tr>\n",
       "    <tr>\n",
       "      <th>2</th>\n",
       "      <td>left cingulate gyrus, anterior division</td>\n",
       "      <td>0.112546</td>\n",
       "      <td>0.060866</td>\n",
       "      <td>0.745721</td>\n",
       "      <td>10022</td>\n",
       "      <td>818</td>\n",
       "    </tr>\n",
       "    <tr>\n",
       "      <th>5</th>\n",
       "      <td>left superior temporal gyrus, anterior division</td>\n",
       "      <td>0.102913</td>\n",
       "      <td>0.182632</td>\n",
       "      <td>0.071642</td>\n",
       "      <td>2234</td>\n",
       "      <td>5695</td>\n",
       "    </tr>\n",
       "    <tr>\n",
       "      <th>7</th>\n",
       "      <td>Left supracalcarine cortex</td>\n",
       "      <td>0.000000</td>\n",
       "      <td>0.000000</td>\n",
       "      <td>0.000000</td>\n",
       "      <td>979</td>\n",
       "      <td>808</td>\n",
       "    </tr>\n",
       "  </tbody>\n",
       "</table>\n",
       "</div>"
      ],
      "text/plain": [
       "                                               region  dice_score  prob_ref_A  \\\n",
       "1                                      right amygdala    0.668132    0.535211   \n",
       "0                                       left amygdala    0.649139    0.523209   \n",
       "4        right supramarginal gyrus, anterior division    0.321297    0.242030   \n",
       "12                        Right frontal medial cortex    0.249541    0.184672   \n",
       "3            right cingulate gyrus, anterior division    0.207064    0.116161   \n",
       "11                         Left frontal medial cortex    0.203003    0.154079   \n",
       "8                                   Left frontal pole    0.190047    0.107169   \n",
       "6   Right temporal fusiform cortex, anterior division    0.187140    0.272610   \n",
       "9                                  Right frontal pole    0.184941    0.104831   \n",
       "13                 Left juxtapositional lobule cortex    0.168885    0.242804   \n",
       "10                                 Left angular gyrus    0.124638    0.101684   \n",
       "2             left cingulate gyrus, anterior division    0.112546    0.060866   \n",
       "5     left superior temporal gyrus, anterior division    0.102913    0.182632   \n",
       "7                          Left supracalcarine cortex    0.000000    0.000000   \n",
       "\n",
       "    prob_ref_B  Harvard volume  Desikan volume  \n",
       "1     0.888889            2272            1368  \n",
       "0     0.854905            1982            1213  \n",
       "4     0.477771            6305            3194  \n",
       "12    0.384655            4045            1942  \n",
       "3     0.952271           10649            1299  \n",
       "11    0.297455            3641            1886  \n",
       "8     0.838460           55697            7119  \n",
       "6     0.142471            2322            4443  \n",
       "9     0.784255           64809            8663  \n",
       "13    0.129469            5906           11076  \n",
       "10    0.160978            7838            4951  \n",
       "2     0.745721           10022             818  \n",
       "5     0.071642            2234            5695  \n",
       "7     0.000000             979             808  "
      ]
     },
     "metadata": {},
     "output_type": "display_data"
    }
   ],
   "source": [
    "display(pd.DataFrame(results_dice).sort_values(by='dice_score', ascending=False))"
   ]
  },
  {
   "cell_type": "markdown",
   "metadata": {},
   "source": [
    "# Compare HO regions with DKT, Destrieux, Neuro, AAL, Aicha"
   ]
  },
  {
   "cell_type": "code",
   "execution_count": 53,
   "metadata": {},
   "outputs": [],
   "source": [
    "with open('regions-comparison-interest.json') as f:\n",
    "    data=json.load(f)"
   ]
  },
  {
   "cell_type": "code",
   "execution_count": 54,
   "metadata": {},
   "outputs": [],
   "source": [
    "def generate_res_dict_atlas(index, name, atlas):\n",
    "    return [{'region_name' : name, 'region_number' : index, 'atlas' : atlas}]"
   ]
  },
  {
   "cell_type": "code",
   "execution_count": 56,
   "metadata": {},
   "outputs": [
    {
     "name": "stderr",
     "output_type": "stream",
     "text": [
      " 99%|███████████████████████████████████████████████████████████████████████████████▌| 165/166 [01:20<00:00,  2.05it/s]\n",
      " 99%|███████████████████████████████████████████████████████████████████████████████▌| 165/166 [01:14<00:00,  2.22it/s]\n",
      " 99%|███████████████████████████████████████████████████████████████████████████████▌| 165/166 [01:13<00:00,  2.24it/s]\n",
      " 99%|███████████████████████████████████████████████████████████████████████████████▌| 165/166 [01:14<00:00,  2.22it/s]\n",
      " 99%|███████████████████████████████████████████████████████████████████████████████▌| 165/166 [01:10<00:00,  2.34it/s]\n",
      " 99%|███████████████████████████████████████████████████████████████████████████████▌| 165/166 [01:09<00:00,  2.36it/s]\n",
      " 99%|███████████████████████████████████████████████████████████████████████████████▌| 165/166 [01:10<00:00,  2.33it/s]\n",
      " 99%|███████████████████████████████████████████████████████████████████████████████▌| 165/166 [01:10<00:00,  2.32it/s]\n",
      " 99%|███████████████████████████████████████████████████████████████████████████████▌| 165/166 [01:10<00:00,  2.33it/s]\n",
      " 99%|███████████████████████████████████████████████████████████████████████████████▌| 165/166 [01:10<00:00,  2.35it/s]\n",
      " 99%|███████████████████████████████████████████████████████████████████████████████▌| 165/166 [01:27<00:00,  1.90it/s]\n",
      " 99%|███████████████████████████████████████████████████████████████████████████████▌| 165/166 [01:23<00:00,  1.99it/s]\n",
      " 99%|███████████████████████████████████████████████████████████████████████████████▌| 165/166 [01:20<00:00,  2.05it/s]\n",
      " 99%|███████████████████████████████████████████████████████████████████████████████▌| 165/166 [01:34<00:00,  1.74it/s]\n"
     ]
    }
   ],
   "source": [
    "atlases_data = [{'atlas':'aal' ,'csv': 'new atlas/AAL3v1_for_SPM12 (1)/AAL3/labels.csv'}]\n",
    "               #{'atlas':'aicha', 'csv':'new atlas/AICHA_v2/AICHA/labels.csv'}]\n",
    "\n",
    "harvard_names = [data[r]['A'][0]['region_name'] for r in data]\n",
    "\n",
    "for a in atlases_data:\n",
    "    \n",
    "    atlas_df = pd.read_csv(a['csv'])\n",
    "    \n",
    "    keys = atlas_df['name'].values\n",
    "    vals = [[] for key in keys]\n",
    "    res_dataframe = dict(zip(keys, vals))\n",
    "    \n",
    "    atlas_name = a['atlas']\n",
    "    \n",
    "    for r in data:\n",
    "        A = data[r]['A']\n",
    "        for index, name in zip(atlas_df['index'].values, tqdm(atlas_df['name'].values)):\n",
    "            B = generate_res_dict_atlas(index, name, atlas_name)\n",
    "            metric = compare_region_groups(A,B)[-1]\n",
    "            res_dataframe[name].append(metric)\n",
    "    \n",
    "    \n",
    "    res_f_df = pd.DataFrame(res_dataframe)\n",
    "    res_f_df.index = harvard_names\n",
    "    res_f_df.to_csv(atlas_name+'-comparison-HO-ref-B.csv')"
   ]
  },
  {
   "cell_type": "code",
   "execution_count": null,
   "metadata": {},
   "outputs": [],
   "source": []
  },
  {
   "cell_type": "markdown",
   "metadata": {},
   "source": [
    "## 4. Compare HO regions with all DKT"
   ]
  },
  {
   "cell_type": "code",
   "execution_count": 62,
   "metadata": {},
   "outputs": [],
   "source": [
    "with open('regions-comparison-interest.json') as f:\n",
    "    data=json.load(f)"
   ]
  },
  {
   "cell_type": "code",
   "execution_count": 63,
   "metadata": {},
   "outputs": [
    {
     "data": {
      "text/html": [
       "<div>\n",
       "<style scoped>\n",
       "    .dataframe tbody tr th:only-of-type {\n",
       "        vertical-align: middle;\n",
       "    }\n",
       "\n",
       "    .dataframe tbody tr th {\n",
       "        vertical-align: top;\n",
       "    }\n",
       "\n",
       "    .dataframe thead th {\n",
       "        text-align: right;\n",
       "    }\n",
       "</style>\n",
       "<table border=\"1\" class=\"dataframe\">\n",
       "  <thead>\n",
       "    <tr style=\"text-align: right;\">\n",
       "      <th></th>\n",
       "      <th>index</th>\n",
       "      <th>name</th>\n",
       "    </tr>\n",
       "  </thead>\n",
       "  <tbody>\n",
       "    <tr>\n",
       "      <th>0</th>\n",
       "      <td>0</td>\n",
       "      <td>Unknown</td>\n",
       "    </tr>\n",
       "    <tr>\n",
       "      <th>1</th>\n",
       "      <td>2</td>\n",
       "      <td>Left-Cerebral-White-Matter</td>\n",
       "    </tr>\n",
       "    <tr>\n",
       "      <th>2</th>\n",
       "      <td>4</td>\n",
       "      <td>Left-Lateral-Ventricle</td>\n",
       "    </tr>\n",
       "    <tr>\n",
       "      <th>3</th>\n",
       "      <td>5</td>\n",
       "      <td>Left-Inf-Lat-Vent</td>\n",
       "    </tr>\n",
       "    <tr>\n",
       "      <th>4</th>\n",
       "      <td>7</td>\n",
       "      <td>Left-Cerebellum-White-Matter</td>\n",
       "    </tr>\n",
       "  </tbody>\n",
       "</table>\n",
       "</div>"
      ],
      "text/plain": [
       "   index                          name\n",
       "0      0                       Unknown\n",
       "1      2    Left-Cerebral-White-Matter\n",
       "2      4        Left-Lateral-Ventricle\n",
       "3      5             Left-Inf-Lat-Vent\n",
       "4      7  Left-Cerebellum-White-Matter"
      ]
     },
     "metadata": {},
     "output_type": "display_data"
    },
    {
     "name": "stdout",
     "output_type": "stream",
     "text": [
      "len desikan:  113\n"
     ]
    }
   ],
   "source": [
    "desikan_labels = pd.read_csv('desikan_labels.csv')\n",
    "display(desikan_labels.head())\n",
    "print('len desikan: ', len(desikan_labels))"
   ]
  },
  {
   "cell_type": "code",
   "execution_count": 64,
   "metadata": {},
   "outputs": [
    {
     "name": "stdout",
     "output_type": "stream",
     "text": [
      "len desikan filtered:  105\n"
     ]
    }
   ],
   "source": [
    "discard_desikan = [0,2,7,8,24,41,46,47]\n",
    "filtered_desikan = desikan_labels[np.logical_not(desikan_labels['index'].isin(discard_desikan))]\n",
    "print('len desikan filtered: ', len(filtered_desikan))"
   ]
  },
  {
   "cell_type": "code",
   "execution_count": 65,
   "metadata": {},
   "outputs": [],
   "source": [
    "def generate_res_dict_desikan(index, name):\n",
    "    return [{'region_name' : name, 'region_number' : index, 'atlas' : 'desikan'}]"
   ]
  },
  {
   "cell_type": "code",
   "execution_count": 66,
   "metadata": {},
   "outputs": [
    {
     "name": "stderr",
     "output_type": "stream",
     "text": [
      " 99%|███████████████████████████████████████████████████████████████████████████████▏| 104/105 [00:49<00:00,  2.09it/s]\n",
      " 99%|███████████████████████████████████████████████████████████████████████████████▏| 104/105 [00:42<00:00,  2.46it/s]\n",
      " 99%|███████████████████████████████████████████████████████████████████████████████▏| 104/105 [00:54<00:00,  1.91it/s]\n",
      " 99%|███████████████████████████████████████████████████████████████████████████████▏| 104/105 [00:41<00:00,  2.48it/s]\n",
      " 99%|███████████████████████████████████████████████████████████████████████████████▏| 104/105 [00:39<00:00,  2.60it/s]\n",
      " 99%|███████████████████████████████████████████████████████████████████████████████▏| 104/105 [00:41<00:00,  2.54it/s]\n",
      " 99%|███████████████████████████████████████████████████████████████████████████████▏| 104/105 [00:41<00:00,  2.53it/s]\n",
      " 99%|███████████████████████████████████████████████████████████████████████████████▏| 104/105 [00:40<00:00,  2.59it/s]\n",
      " 99%|███████████████████████████████████████████████████████████████████████████████▏| 104/105 [00:32<00:00,  3.20it/s]\n",
      " 99%|███████████████████████████████████████████████████████████████████████████████▏| 104/105 [00:30<00:00,  3.41it/s]\n",
      " 99%|███████████████████████████████████████████████████████████████████████████████▏| 104/105 [00:30<00:00,  3.41it/s]\n",
      " 99%|███████████████████████████████████████████████████████████████████████████████▏| 104/105 [00:30<00:00,  3.42it/s]\n",
      " 99%|███████████████████████████████████████████████████████████████████████████████▏| 104/105 [00:30<00:00,  3.42it/s]\n",
      " 99%|███████████████████████████████████████████████████████████████████████████████▏| 104/105 [00:30<00:00,  3.40it/s]\n"
     ]
    }
   ],
   "source": [
    "keys = filtered_desikan['name'].values\n",
    "vals = [[] for key in keys]\n",
    "dataframe = dict(zip(keys, vals))\n",
    "\n",
    "for r in data:\n",
    "    A = data[r]['A']\n",
    "    for index, name in zip(filtered_desikan['index'].values, tqdm(filtered_desikan['name'].values)):\n",
    "        B = generate_res_dict_desikan(index, name)\n",
    "        dice, _ = compare_region_groups(A,B)\n",
    "        dataframe[name].append(dice)"
   ]
  },
  {
   "cell_type": "code",
   "execution_count": 67,
   "metadata": {},
   "outputs": [],
   "source": [
    "harvard_names = [data[r]['A'][0]['region_name'] for r in data]"
   ]
  },
  {
   "cell_type": "code",
   "execution_count": 68,
   "metadata": {},
   "outputs": [
    {
     "data": {
      "text/html": [
       "<div>\n",
       "<style scoped>\n",
       "    .dataframe tbody tr th:only-of-type {\n",
       "        vertical-align: middle;\n",
       "    }\n",
       "\n",
       "    .dataframe tbody tr th {\n",
       "        vertical-align: top;\n",
       "    }\n",
       "\n",
       "    .dataframe thead th {\n",
       "        text-align: right;\n",
       "    }\n",
       "</style>\n",
       "<table border=\"1\" class=\"dataframe\">\n",
       "  <thead>\n",
       "    <tr style=\"text-align: right;\">\n",
       "      <th></th>\n",
       "      <th>Left-Lateral-Ventricle</th>\n",
       "      <th>Left-Inf-Lat-Vent</th>\n",
       "      <th>Left-Thalamus-Proper</th>\n",
       "      <th>Left-Caudate</th>\n",
       "      <th>Left-Putamen</th>\n",
       "      <th>Left-Pallidum</th>\n",
       "      <th>3rd-Ventricle</th>\n",
       "      <th>4th-Ventricle</th>\n",
       "      <th>Brain-Stem</th>\n",
       "      <th>Left-Hippocampus</th>\n",
       "      <th>...</th>\n",
       "      <th>ctx-rh-rostralanteriorcingulate</th>\n",
       "      <th>ctx-rh-rostralmiddlefrontal</th>\n",
       "      <th>ctx-rh-superiorfrontal</th>\n",
       "      <th>ctx-rh-superiorparietal</th>\n",
       "      <th>ctx-rh-superiortemporal</th>\n",
       "      <th>ctx-rh-supramarginal</th>\n",
       "      <th>ctx-rh-frontalpole</th>\n",
       "      <th>ctx-rh-temporalpole</th>\n",
       "      <th>ctx-rh-transversetemporal</th>\n",
       "      <th>ctx-rh-insula</th>\n",
       "    </tr>\n",
       "  </thead>\n",
       "  <tbody>\n",
       "    <tr>\n",
       "      <th>left amygdala</th>\n",
       "      <td>0.0</td>\n",
       "      <td>0.004494</td>\n",
       "      <td>0.0</td>\n",
       "      <td>0.0</td>\n",
       "      <td>0.0</td>\n",
       "      <td>0.0</td>\n",
       "      <td>0.0</td>\n",
       "      <td>0.0</td>\n",
       "      <td>0.0</td>\n",
       "      <td>0.015403</td>\n",
       "      <td>...</td>\n",
       "      <td>0.000000</td>\n",
       "      <td>0.000000</td>\n",
       "      <td>0.000000</td>\n",
       "      <td>0.0</td>\n",
       "      <td>0.000000</td>\n",
       "      <td>0.000000</td>\n",
       "      <td>0.000000</td>\n",
       "      <td>0.000000</td>\n",
       "      <td>0.0</td>\n",
       "      <td>0.000000</td>\n",
       "    </tr>\n",
       "    <tr>\n",
       "      <th>right amygdala</th>\n",
       "      <td>0.0</td>\n",
       "      <td>0.000000</td>\n",
       "      <td>0.0</td>\n",
       "      <td>0.0</td>\n",
       "      <td>0.0</td>\n",
       "      <td>0.0</td>\n",
       "      <td>0.0</td>\n",
       "      <td>0.0</td>\n",
       "      <td>0.0</td>\n",
       "      <td>0.000000</td>\n",
       "      <td>...</td>\n",
       "      <td>0.000000</td>\n",
       "      <td>0.000000</td>\n",
       "      <td>0.000000</td>\n",
       "      <td>0.0</td>\n",
       "      <td>0.000000</td>\n",
       "      <td>0.000000</td>\n",
       "      <td>0.000000</td>\n",
       "      <td>0.000413</td>\n",
       "      <td>0.0</td>\n",
       "      <td>0.021075</td>\n",
       "    </tr>\n",
       "    <tr>\n",
       "      <th>left cingulate gyrus, anterior division</th>\n",
       "      <td>0.0</td>\n",
       "      <td>0.000000</td>\n",
       "      <td>0.0</td>\n",
       "      <td>0.0</td>\n",
       "      <td>0.0</td>\n",
       "      <td>0.0</td>\n",
       "      <td>0.0</td>\n",
       "      <td>0.0</td>\n",
       "      <td>0.0</td>\n",
       "      <td>0.000000</td>\n",
       "      <td>...</td>\n",
       "      <td>0.000000</td>\n",
       "      <td>0.000000</td>\n",
       "      <td>0.000000</td>\n",
       "      <td>0.0</td>\n",
       "      <td>0.000000</td>\n",
       "      <td>0.000000</td>\n",
       "      <td>0.000000</td>\n",
       "      <td>0.000000</td>\n",
       "      <td>0.0</td>\n",
       "      <td>0.000000</td>\n",
       "    </tr>\n",
       "    <tr>\n",
       "      <th>right cingulate gyrus, anterior division</th>\n",
       "      <td>0.0</td>\n",
       "      <td>0.000000</td>\n",
       "      <td>0.0</td>\n",
       "      <td>0.0</td>\n",
       "      <td>0.0</td>\n",
       "      <td>0.0</td>\n",
       "      <td>0.0</td>\n",
       "      <td>0.0</td>\n",
       "      <td>0.0</td>\n",
       "      <td>0.000000</td>\n",
       "      <td>...</td>\n",
       "      <td>0.073578</td>\n",
       "      <td>0.000000</td>\n",
       "      <td>0.010925</td>\n",
       "      <td>0.0</td>\n",
       "      <td>0.000000</td>\n",
       "      <td>0.000000</td>\n",
       "      <td>0.000000</td>\n",
       "      <td>0.000000</td>\n",
       "      <td>0.0</td>\n",
       "      <td>0.000000</td>\n",
       "    </tr>\n",
       "    <tr>\n",
       "      <th>right supramarginal gyrus, anterior division</th>\n",
       "      <td>0.0</td>\n",
       "      <td>0.000000</td>\n",
       "      <td>0.0</td>\n",
       "      <td>0.0</td>\n",
       "      <td>0.0</td>\n",
       "      <td>0.0</td>\n",
       "      <td>0.0</td>\n",
       "      <td>0.0</td>\n",
       "      <td>0.0</td>\n",
       "      <td>0.000000</td>\n",
       "      <td>...</td>\n",
       "      <td>0.000000</td>\n",
       "      <td>0.000000</td>\n",
       "      <td>0.000000</td>\n",
       "      <td>0.0</td>\n",
       "      <td>0.000638</td>\n",
       "      <td>0.241526</td>\n",
       "      <td>0.000000</td>\n",
       "      <td>0.000000</td>\n",
       "      <td>0.0</td>\n",
       "      <td>0.000000</td>\n",
       "    </tr>\n",
       "    <tr>\n",
       "      <th>left superior temporal gyrus, anterior division</th>\n",
       "      <td>0.0</td>\n",
       "      <td>0.000000</td>\n",
       "      <td>0.0</td>\n",
       "      <td>0.0</td>\n",
       "      <td>0.0</td>\n",
       "      <td>0.0</td>\n",
       "      <td>0.0</td>\n",
       "      <td>0.0</td>\n",
       "      <td>0.0</td>\n",
       "      <td>0.000000</td>\n",
       "      <td>...</td>\n",
       "      <td>0.000000</td>\n",
       "      <td>0.000000</td>\n",
       "      <td>0.000000</td>\n",
       "      <td>0.0</td>\n",
       "      <td>0.000000</td>\n",
       "      <td>0.000000</td>\n",
       "      <td>0.000000</td>\n",
       "      <td>0.000000</td>\n",
       "      <td>0.0</td>\n",
       "      <td>0.000000</td>\n",
       "    </tr>\n",
       "    <tr>\n",
       "      <th>Right temporal fusiform cortex, anterior division</th>\n",
       "      <td>0.0</td>\n",
       "      <td>0.000000</td>\n",
       "      <td>0.0</td>\n",
       "      <td>0.0</td>\n",
       "      <td>0.0</td>\n",
       "      <td>0.0</td>\n",
       "      <td>0.0</td>\n",
       "      <td>0.0</td>\n",
       "      <td>0.0</td>\n",
       "      <td>0.000000</td>\n",
       "      <td>...</td>\n",
       "      <td>0.000000</td>\n",
       "      <td>0.000000</td>\n",
       "      <td>0.000000</td>\n",
       "      <td>0.0</td>\n",
       "      <td>0.000000</td>\n",
       "      <td>0.000000</td>\n",
       "      <td>0.000000</td>\n",
       "      <td>0.000000</td>\n",
       "      <td>0.0</td>\n",
       "      <td>0.000000</td>\n",
       "    </tr>\n",
       "    <tr>\n",
       "      <th>Left supracalcarine cortex</th>\n",
       "      <td>0.0</td>\n",
       "      <td>0.000000</td>\n",
       "      <td>0.0</td>\n",
       "      <td>0.0</td>\n",
       "      <td>0.0</td>\n",
       "      <td>0.0</td>\n",
       "      <td>0.0</td>\n",
       "      <td>0.0</td>\n",
       "      <td>0.0</td>\n",
       "      <td>0.000000</td>\n",
       "      <td>...</td>\n",
       "      <td>0.000000</td>\n",
       "      <td>0.000000</td>\n",
       "      <td>0.000000</td>\n",
       "      <td>0.0</td>\n",
       "      <td>0.000000</td>\n",
       "      <td>0.000000</td>\n",
       "      <td>0.000000</td>\n",
       "      <td>0.000000</td>\n",
       "      <td>0.0</td>\n",
       "      <td>0.000000</td>\n",
       "    </tr>\n",
       "    <tr>\n",
       "      <th>Left frontal pole</th>\n",
       "      <td>0.0</td>\n",
       "      <td>0.000000</td>\n",
       "      <td>0.0</td>\n",
       "      <td>0.0</td>\n",
       "      <td>0.0</td>\n",
       "      <td>0.0</td>\n",
       "      <td>0.0</td>\n",
       "      <td>0.0</td>\n",
       "      <td>0.0</td>\n",
       "      <td>0.000000</td>\n",
       "      <td>...</td>\n",
       "      <td>0.000000</td>\n",
       "      <td>0.000000</td>\n",
       "      <td>0.000000</td>\n",
       "      <td>0.0</td>\n",
       "      <td>0.000000</td>\n",
       "      <td>0.000000</td>\n",
       "      <td>0.000000</td>\n",
       "      <td>0.000000</td>\n",
       "      <td>0.0</td>\n",
       "      <td>0.000000</td>\n",
       "    </tr>\n",
       "    <tr>\n",
       "      <th>Right frontal pole</th>\n",
       "      <td>0.0</td>\n",
       "      <td>0.000000</td>\n",
       "      <td>0.0</td>\n",
       "      <td>0.0</td>\n",
       "      <td>0.0</td>\n",
       "      <td>0.0</td>\n",
       "      <td>0.0</td>\n",
       "      <td>0.0</td>\n",
       "      <td>0.0</td>\n",
       "      <td>0.000000</td>\n",
       "      <td>...</td>\n",
       "      <td>0.000000</td>\n",
       "      <td>0.108847</td>\n",
       "      <td>0.053333</td>\n",
       "      <td>0.0</td>\n",
       "      <td>0.000000</td>\n",
       "      <td>0.000000</td>\n",
       "      <td>0.011487</td>\n",
       "      <td>0.000000</td>\n",
       "      <td>0.0</td>\n",
       "      <td>0.000000</td>\n",
       "    </tr>\n",
       "    <tr>\n",
       "      <th>Left angular gyrus</th>\n",
       "      <td>0.0</td>\n",
       "      <td>0.000000</td>\n",
       "      <td>0.0</td>\n",
       "      <td>0.0</td>\n",
       "      <td>0.0</td>\n",
       "      <td>0.0</td>\n",
       "      <td>0.0</td>\n",
       "      <td>0.0</td>\n",
       "      <td>0.0</td>\n",
       "      <td>0.000000</td>\n",
       "      <td>...</td>\n",
       "      <td>0.000000</td>\n",
       "      <td>0.000000</td>\n",
       "      <td>0.000000</td>\n",
       "      <td>0.0</td>\n",
       "      <td>0.000000</td>\n",
       "      <td>0.000000</td>\n",
       "      <td>0.000000</td>\n",
       "      <td>0.000000</td>\n",
       "      <td>0.0</td>\n",
       "      <td>0.000000</td>\n",
       "    </tr>\n",
       "    <tr>\n",
       "      <th>Left frontal medial cortex</th>\n",
       "      <td>0.0</td>\n",
       "      <td>0.000000</td>\n",
       "      <td>0.0</td>\n",
       "      <td>0.0</td>\n",
       "      <td>0.0</td>\n",
       "      <td>0.0</td>\n",
       "      <td>0.0</td>\n",
       "      <td>0.0</td>\n",
       "      <td>0.0</td>\n",
       "      <td>0.000000</td>\n",
       "      <td>...</td>\n",
       "      <td>0.000000</td>\n",
       "      <td>0.000000</td>\n",
       "      <td>0.000000</td>\n",
       "      <td>0.0</td>\n",
       "      <td>0.000000</td>\n",
       "      <td>0.000000</td>\n",
       "      <td>0.000000</td>\n",
       "      <td>0.000000</td>\n",
       "      <td>0.0</td>\n",
       "      <td>0.000000</td>\n",
       "    </tr>\n",
       "    <tr>\n",
       "      <th>Right frontal medial cortex</th>\n",
       "      <td>0.0</td>\n",
       "      <td>0.000000</td>\n",
       "      <td>0.0</td>\n",
       "      <td>0.0</td>\n",
       "      <td>0.0</td>\n",
       "      <td>0.0</td>\n",
       "      <td>0.0</td>\n",
       "      <td>0.0</td>\n",
       "      <td>0.0</td>\n",
       "      <td>0.000000</td>\n",
       "      <td>...</td>\n",
       "      <td>0.000000</td>\n",
       "      <td>0.000000</td>\n",
       "      <td>0.000000</td>\n",
       "      <td>0.0</td>\n",
       "      <td>0.000000</td>\n",
       "      <td>0.000000</td>\n",
       "      <td>0.000000</td>\n",
       "      <td>0.000000</td>\n",
       "      <td>0.0</td>\n",
       "      <td>0.000000</td>\n",
       "    </tr>\n",
       "    <tr>\n",
       "      <th>Left juxtapositional lobule cortex</th>\n",
       "      <td>0.0</td>\n",
       "      <td>0.000000</td>\n",
       "      <td>0.0</td>\n",
       "      <td>0.0</td>\n",
       "      <td>0.0</td>\n",
       "      <td>0.0</td>\n",
       "      <td>0.0</td>\n",
       "      <td>0.0</td>\n",
       "      <td>0.0</td>\n",
       "      <td>0.000000</td>\n",
       "      <td>...</td>\n",
       "      <td>0.000000</td>\n",
       "      <td>0.000000</td>\n",
       "      <td>0.000000</td>\n",
       "      <td>0.0</td>\n",
       "      <td>0.000000</td>\n",
       "      <td>0.000000</td>\n",
       "      <td>0.000000</td>\n",
       "      <td>0.000000</td>\n",
       "      <td>0.0</td>\n",
       "      <td>0.000000</td>\n",
       "    </tr>\n",
       "  </tbody>\n",
       "</table>\n",
       "<p>14 rows × 105 columns</p>\n",
       "</div>"
      ],
      "text/plain": [
       "                                                   Left-Lateral-Ventricle  \\\n",
       "left amygdala                                                         0.0   \n",
       "right amygdala                                                        0.0   \n",
       "left cingulate gyrus, anterior division                               0.0   \n",
       "right cingulate gyrus, anterior division                              0.0   \n",
       "right supramarginal gyrus, anterior division                          0.0   \n",
       "left superior temporal gyrus, anterior division                       0.0   \n",
       "Right temporal fusiform cortex, anterior division                     0.0   \n",
       "Left supracalcarine cortex                                            0.0   \n",
       "Left frontal pole                                                     0.0   \n",
       "Right frontal pole                                                    0.0   \n",
       "Left angular gyrus                                                    0.0   \n",
       "Left frontal medial cortex                                            0.0   \n",
       "Right frontal medial cortex                                           0.0   \n",
       "Left juxtapositional lobule cortex                                    0.0   \n",
       "\n",
       "                                                   Left-Inf-Lat-Vent  \\\n",
       "left amygdala                                               0.004494   \n",
       "right amygdala                                              0.000000   \n",
       "left cingulate gyrus, anterior division                     0.000000   \n",
       "right cingulate gyrus, anterior division                    0.000000   \n",
       "right supramarginal gyrus, anterior division                0.000000   \n",
       "left superior temporal gyrus, anterior division             0.000000   \n",
       "Right temporal fusiform cortex, anterior division           0.000000   \n",
       "Left supracalcarine cortex                                  0.000000   \n",
       "Left frontal pole                                           0.000000   \n",
       "Right frontal pole                                          0.000000   \n",
       "Left angular gyrus                                          0.000000   \n",
       "Left frontal medial cortex                                  0.000000   \n",
       "Right frontal medial cortex                                 0.000000   \n",
       "Left juxtapositional lobule cortex                          0.000000   \n",
       "\n",
       "                                                   Left-Thalamus-Proper  \\\n",
       "left amygdala                                                       0.0   \n",
       "right amygdala                                                      0.0   \n",
       "left cingulate gyrus, anterior division                             0.0   \n",
       "right cingulate gyrus, anterior division                            0.0   \n",
       "right supramarginal gyrus, anterior division                        0.0   \n",
       "left superior temporal gyrus, anterior division                     0.0   \n",
       "Right temporal fusiform cortex, anterior division                   0.0   \n",
       "Left supracalcarine cortex                                          0.0   \n",
       "Left frontal pole                                                   0.0   \n",
       "Right frontal pole                                                  0.0   \n",
       "Left angular gyrus                                                  0.0   \n",
       "Left frontal medial cortex                                          0.0   \n",
       "Right frontal medial cortex                                         0.0   \n",
       "Left juxtapositional lobule cortex                                  0.0   \n",
       "\n",
       "                                                   Left-Caudate  Left-Putamen  \\\n",
       "left amygdala                                               0.0           0.0   \n",
       "right amygdala                                              0.0           0.0   \n",
       "left cingulate gyrus, anterior division                     0.0           0.0   \n",
       "right cingulate gyrus, anterior division                    0.0           0.0   \n",
       "right supramarginal gyrus, anterior division                0.0           0.0   \n",
       "left superior temporal gyrus, anterior division             0.0           0.0   \n",
       "Right temporal fusiform cortex, anterior division           0.0           0.0   \n",
       "Left supracalcarine cortex                                  0.0           0.0   \n",
       "Left frontal pole                                           0.0           0.0   \n",
       "Right frontal pole                                          0.0           0.0   \n",
       "Left angular gyrus                                          0.0           0.0   \n",
       "Left frontal medial cortex                                  0.0           0.0   \n",
       "Right frontal medial cortex                                 0.0           0.0   \n",
       "Left juxtapositional lobule cortex                          0.0           0.0   \n",
       "\n",
       "                                                   Left-Pallidum  \\\n",
       "left amygdala                                                0.0   \n",
       "right amygdala                                               0.0   \n",
       "left cingulate gyrus, anterior division                      0.0   \n",
       "right cingulate gyrus, anterior division                     0.0   \n",
       "right supramarginal gyrus, anterior division                 0.0   \n",
       "left superior temporal gyrus, anterior division              0.0   \n",
       "Right temporal fusiform cortex, anterior division            0.0   \n",
       "Left supracalcarine cortex                                   0.0   \n",
       "Left frontal pole                                            0.0   \n",
       "Right frontal pole                                           0.0   \n",
       "Left angular gyrus                                           0.0   \n",
       "Left frontal medial cortex                                   0.0   \n",
       "Right frontal medial cortex                                  0.0   \n",
       "Left juxtapositional lobule cortex                           0.0   \n",
       "\n",
       "                                                   3rd-Ventricle  \\\n",
       "left amygdala                                                0.0   \n",
       "right amygdala                                               0.0   \n",
       "left cingulate gyrus, anterior division                      0.0   \n",
       "right cingulate gyrus, anterior division                     0.0   \n",
       "right supramarginal gyrus, anterior division                 0.0   \n",
       "left superior temporal gyrus, anterior division              0.0   \n",
       "Right temporal fusiform cortex, anterior division            0.0   \n",
       "Left supracalcarine cortex                                   0.0   \n",
       "Left frontal pole                                            0.0   \n",
       "Right frontal pole                                           0.0   \n",
       "Left angular gyrus                                           0.0   \n",
       "Left frontal medial cortex                                   0.0   \n",
       "Right frontal medial cortex                                  0.0   \n",
       "Left juxtapositional lobule cortex                           0.0   \n",
       "\n",
       "                                                   4th-Ventricle  Brain-Stem  \\\n",
       "left amygdala                                                0.0         0.0   \n",
       "right amygdala                                               0.0         0.0   \n",
       "left cingulate gyrus, anterior division                      0.0         0.0   \n",
       "right cingulate gyrus, anterior division                     0.0         0.0   \n",
       "right supramarginal gyrus, anterior division                 0.0         0.0   \n",
       "left superior temporal gyrus, anterior division              0.0         0.0   \n",
       "Right temporal fusiform cortex, anterior division            0.0         0.0   \n",
       "Left supracalcarine cortex                                   0.0         0.0   \n",
       "Left frontal pole                                            0.0         0.0   \n",
       "Right frontal pole                                           0.0         0.0   \n",
       "Left angular gyrus                                           0.0         0.0   \n",
       "Left frontal medial cortex                                   0.0         0.0   \n",
       "Right frontal medial cortex                                  0.0         0.0   \n",
       "Left juxtapositional lobule cortex                           0.0         0.0   \n",
       "\n",
       "                                                   Left-Hippocampus  ...  \\\n",
       "left amygdala                                              0.015403  ...   \n",
       "right amygdala                                             0.000000  ...   \n",
       "left cingulate gyrus, anterior division                    0.000000  ...   \n",
       "right cingulate gyrus, anterior division                   0.000000  ...   \n",
       "right supramarginal gyrus, anterior division               0.000000  ...   \n",
       "left superior temporal gyrus, anterior division            0.000000  ...   \n",
       "Right temporal fusiform cortex, anterior division          0.000000  ...   \n",
       "Left supracalcarine cortex                                 0.000000  ...   \n",
       "Left frontal pole                                          0.000000  ...   \n",
       "Right frontal pole                                         0.000000  ...   \n",
       "Left angular gyrus                                         0.000000  ...   \n",
       "Left frontal medial cortex                                 0.000000  ...   \n",
       "Right frontal medial cortex                                0.000000  ...   \n",
       "Left juxtapositional lobule cortex                         0.000000  ...   \n",
       "\n",
       "                                                   ctx-rh-rostralanteriorcingulate  \\\n",
       "left amygdala                                                             0.000000   \n",
       "right amygdala                                                            0.000000   \n",
       "left cingulate gyrus, anterior division                                   0.000000   \n",
       "right cingulate gyrus, anterior division                                  0.073578   \n",
       "right supramarginal gyrus, anterior division                              0.000000   \n",
       "left superior temporal gyrus, anterior division                           0.000000   \n",
       "Right temporal fusiform cortex, anterior division                         0.000000   \n",
       "Left supracalcarine cortex                                                0.000000   \n",
       "Left frontal pole                                                         0.000000   \n",
       "Right frontal pole                                                        0.000000   \n",
       "Left angular gyrus                                                        0.000000   \n",
       "Left frontal medial cortex                                                0.000000   \n",
       "Right frontal medial cortex                                               0.000000   \n",
       "Left juxtapositional lobule cortex                                        0.000000   \n",
       "\n",
       "                                                   ctx-rh-rostralmiddlefrontal  \\\n",
       "left amygdala                                                         0.000000   \n",
       "right amygdala                                                        0.000000   \n",
       "left cingulate gyrus, anterior division                               0.000000   \n",
       "right cingulate gyrus, anterior division                              0.000000   \n",
       "right supramarginal gyrus, anterior division                          0.000000   \n",
       "left superior temporal gyrus, anterior division                       0.000000   \n",
       "Right temporal fusiform cortex, anterior division                     0.000000   \n",
       "Left supracalcarine cortex                                            0.000000   \n",
       "Left frontal pole                                                     0.000000   \n",
       "Right frontal pole                                                    0.108847   \n",
       "Left angular gyrus                                                    0.000000   \n",
       "Left frontal medial cortex                                            0.000000   \n",
       "Right frontal medial cortex                                           0.000000   \n",
       "Left juxtapositional lobule cortex                                    0.000000   \n",
       "\n",
       "                                                   ctx-rh-superiorfrontal  \\\n",
       "left amygdala                                                    0.000000   \n",
       "right amygdala                                                   0.000000   \n",
       "left cingulate gyrus, anterior division                          0.000000   \n",
       "right cingulate gyrus, anterior division                         0.010925   \n",
       "right supramarginal gyrus, anterior division                     0.000000   \n",
       "left superior temporal gyrus, anterior division                  0.000000   \n",
       "Right temporal fusiform cortex, anterior division                0.000000   \n",
       "Left supracalcarine cortex                                       0.000000   \n",
       "Left frontal pole                                                0.000000   \n",
       "Right frontal pole                                               0.053333   \n",
       "Left angular gyrus                                               0.000000   \n",
       "Left frontal medial cortex                                       0.000000   \n",
       "Right frontal medial cortex                                      0.000000   \n",
       "Left juxtapositional lobule cortex                               0.000000   \n",
       "\n",
       "                                                   ctx-rh-superiorparietal  \\\n",
       "left amygdala                                                          0.0   \n",
       "right amygdala                                                         0.0   \n",
       "left cingulate gyrus, anterior division                                0.0   \n",
       "right cingulate gyrus, anterior division                               0.0   \n",
       "right supramarginal gyrus, anterior division                           0.0   \n",
       "left superior temporal gyrus, anterior division                        0.0   \n",
       "Right temporal fusiform cortex, anterior division                      0.0   \n",
       "Left supracalcarine cortex                                             0.0   \n",
       "Left frontal pole                                                      0.0   \n",
       "Right frontal pole                                                     0.0   \n",
       "Left angular gyrus                                                     0.0   \n",
       "Left frontal medial cortex                                             0.0   \n",
       "Right frontal medial cortex                                            0.0   \n",
       "Left juxtapositional lobule cortex                                     0.0   \n",
       "\n",
       "                                                   ctx-rh-superiortemporal  \\\n",
       "left amygdala                                                     0.000000   \n",
       "right amygdala                                                    0.000000   \n",
       "left cingulate gyrus, anterior division                           0.000000   \n",
       "right cingulate gyrus, anterior division                          0.000000   \n",
       "right supramarginal gyrus, anterior division                      0.000638   \n",
       "left superior temporal gyrus, anterior division                   0.000000   \n",
       "Right temporal fusiform cortex, anterior division                 0.000000   \n",
       "Left supracalcarine cortex                                        0.000000   \n",
       "Left frontal pole                                                 0.000000   \n",
       "Right frontal pole                                                0.000000   \n",
       "Left angular gyrus                                                0.000000   \n",
       "Left frontal medial cortex                                        0.000000   \n",
       "Right frontal medial cortex                                       0.000000   \n",
       "Left juxtapositional lobule cortex                                0.000000   \n",
       "\n",
       "                                                   ctx-rh-supramarginal  \\\n",
       "left amygdala                                                  0.000000   \n",
       "right amygdala                                                 0.000000   \n",
       "left cingulate gyrus, anterior division                        0.000000   \n",
       "right cingulate gyrus, anterior division                       0.000000   \n",
       "right supramarginal gyrus, anterior division                   0.241526   \n",
       "left superior temporal gyrus, anterior division                0.000000   \n",
       "Right temporal fusiform cortex, anterior division              0.000000   \n",
       "Left supracalcarine cortex                                     0.000000   \n",
       "Left frontal pole                                              0.000000   \n",
       "Right frontal pole                                             0.000000   \n",
       "Left angular gyrus                                             0.000000   \n",
       "Left frontal medial cortex                                     0.000000   \n",
       "Right frontal medial cortex                                    0.000000   \n",
       "Left juxtapositional lobule cortex                             0.000000   \n",
       "\n",
       "                                                   ctx-rh-frontalpole  \\\n",
       "left amygdala                                                0.000000   \n",
       "right amygdala                                               0.000000   \n",
       "left cingulate gyrus, anterior division                      0.000000   \n",
       "right cingulate gyrus, anterior division                     0.000000   \n",
       "right supramarginal gyrus, anterior division                 0.000000   \n",
       "left superior temporal gyrus, anterior division              0.000000   \n",
       "Right temporal fusiform cortex, anterior division            0.000000   \n",
       "Left supracalcarine cortex                                   0.000000   \n",
       "Left frontal pole                                            0.000000   \n",
       "Right frontal pole                                           0.011487   \n",
       "Left angular gyrus                                           0.000000   \n",
       "Left frontal medial cortex                                   0.000000   \n",
       "Right frontal medial cortex                                  0.000000   \n",
       "Left juxtapositional lobule cortex                           0.000000   \n",
       "\n",
       "                                                   ctx-rh-temporalpole  \\\n",
       "left amygdala                                                 0.000000   \n",
       "right amygdala                                                0.000413   \n",
       "left cingulate gyrus, anterior division                       0.000000   \n",
       "right cingulate gyrus, anterior division                      0.000000   \n",
       "right supramarginal gyrus, anterior division                  0.000000   \n",
       "left superior temporal gyrus, anterior division               0.000000   \n",
       "Right temporal fusiform cortex, anterior division             0.000000   \n",
       "Left supracalcarine cortex                                    0.000000   \n",
       "Left frontal pole                                             0.000000   \n",
       "Right frontal pole                                            0.000000   \n",
       "Left angular gyrus                                            0.000000   \n",
       "Left frontal medial cortex                                    0.000000   \n",
       "Right frontal medial cortex                                   0.000000   \n",
       "Left juxtapositional lobule cortex                            0.000000   \n",
       "\n",
       "                                                   ctx-rh-transversetemporal  \\\n",
       "left amygdala                                                            0.0   \n",
       "right amygdala                                                           0.0   \n",
       "left cingulate gyrus, anterior division                                  0.0   \n",
       "right cingulate gyrus, anterior division                                 0.0   \n",
       "right supramarginal gyrus, anterior division                             0.0   \n",
       "left superior temporal gyrus, anterior division                          0.0   \n",
       "Right temporal fusiform cortex, anterior division                        0.0   \n",
       "Left supracalcarine cortex                                               0.0   \n",
       "Left frontal pole                                                        0.0   \n",
       "Right frontal pole                                                       0.0   \n",
       "Left angular gyrus                                                       0.0   \n",
       "Left frontal medial cortex                                               0.0   \n",
       "Right frontal medial cortex                                              0.0   \n",
       "Left juxtapositional lobule cortex                                       0.0   \n",
       "\n",
       "                                                   ctx-rh-insula  \n",
       "left amygdala                                           0.000000  \n",
       "right amygdala                                          0.021075  \n",
       "left cingulate gyrus, anterior division                 0.000000  \n",
       "right cingulate gyrus, anterior division                0.000000  \n",
       "right supramarginal gyrus, anterior division            0.000000  \n",
       "left superior temporal gyrus, anterior division         0.000000  \n",
       "Right temporal fusiform cortex, anterior division       0.000000  \n",
       "Left supracalcarine cortex                              0.000000  \n",
       "Left frontal pole                                       0.000000  \n",
       "Right frontal pole                                      0.000000  \n",
       "Left angular gyrus                                      0.000000  \n",
       "Left frontal medial cortex                              0.000000  \n",
       "Right frontal medial cortex                             0.000000  \n",
       "Left juxtapositional lobule cortex                      0.000000  \n",
       "\n",
       "[14 rows x 105 columns]"
      ]
     },
     "metadata": {},
     "output_type": "display_data"
    }
   ],
   "source": [
    "comparison_regions = pd.DataFrame(dataframe)\n",
    "comparison_regions.index = harvard_names\n",
    "display(comparison_regions)\n",
    "comparison_regions.to_csv('comparison_regions_dice.csv')"
   ]
  },
  {
   "cell_type": "code",
   "execution_count": null,
   "metadata": {},
   "outputs": [],
   "source": []
  }
 ],
 "metadata": {
  "kernelspec": {
   "display_name": "Python 3 (ipykernel)",
   "language": "python",
   "name": "python3"
  },
  "language_info": {
   "codemirror_mode": {
    "name": "ipython",
    "version": 3
   },
   "file_extension": ".py",
   "mimetype": "text/x-python",
   "name": "python",
   "nbconvert_exporter": "python",
   "pygments_lexer": "ipython3",
   "version": "3.7.13"
  }
 },
 "nbformat": 4,
 "nbformat_minor": 4
}
