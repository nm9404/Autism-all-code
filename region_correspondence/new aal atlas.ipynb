{
 "cells": [
  {
   "cell_type": "code",
   "execution_count": 1,
   "metadata": {},
   "outputs": [],
   "source": [
    "import nibabel as nib\n",
    "import numpy as np\n",
    "from matplotlib import pyplot as plt\n",
    "import os\n",
    "import json\n",
    "import pandas as pd\n",
    "from tqdm import tqdm"
   ]
  },
  {
   "cell_type": "code",
   "execution_count": 2,
   "metadata": {},
   "outputs": [
    {
     "name": "stdout",
     "output_type": "stream",
     "text": [
      " El volumen de la unidad C es Local Disk\n",
      " El n£mero de serie del volumen es: 78AA-5A8A\n",
      "\n",
      " Directorio de C:\\Users\\n_940\\Documents\\UNAL\\Temporal_U_Militar\\desikan-killiany\n",
      "\n",
      "09/09/2021  06:14 p. m.    <DIR>          .\n",
      "09/09/2021  06:14 p. m.    <DIR>          ..\n",
      "09/09/2021  06:14 p. m.    <DIR>          .ipynb_checkpoints\n",
      "07/09/2021  05:38 p. m.             1.926 aal to HO.csv\n",
      "22/07/2021  10:02 p. m.            13.538 aal-comparison-HO-noreg.csv\n",
      "06/09/2021  08:13 p. m.            13.230 aal-comparison-HO-ref-A.csv\n",
      "06/09/2021  08:38 p. m.            13.209 aal-comparison-HO-ref-B.csv\n",
      "04/08/2021  09:02 p. m.            13.238 aal-comparison-HO.csv\n",
      "04/08/2021  08:37 p. m.             5.923 aal_ho_difference.json\n",
      "07/09/2021  05:37 p. m.           749.766 aal_transformed_roi.nii.gz\n",
      "22/07/2021  10:14 p. m.            15.557 aicha-comparison-HO-noreg.csv\n",
      "23/07/2021  05:47 p. m.            31.505 aicha-comparison-HO.csv\n",
      "06/09/2021  08:40 p. m.           113.721 Atlas volumes regions.ipynb\n",
      "13/07/2021  07:24 p. m.    <DIR>          atlas_correc\n",
      "23/04/2021  05:05 p. m.           300.393 atlas_desikan_killiany.nii.gz\n",
      "02/07/2021  08:36 a. m.             9.697 comparison_regions.csv\n",
      "02/07/2021  09:57 a. m.             9.688 comparison_regions_dice.csv\n",
      "02/07/2021  09:02 a. m.            33.561 desikan_groups.xlsx\n",
      "28/04/2021  08:08 a. m.             2.883 desikan_labels.csv\n",
      "30/06/2021  11:47 p. m.         5.620.675 desikan_seg.nii.gz\n",
      "13/07/2021  08:37 p. m.            17.734 destrieux-comparison-HO.csv\n",
      "12/08/2021  08:06 p. m.               464 differences_ho_aal.csv\n",
      "04/08/2021  09:34 p. m.           378.435 differences_ho_aal.nii.gz\n",
      "12/08/2021  08:06 p. m.           364.078 differences_ho_aal_inverse.nii.gz\n",
      "08/07/2021  08:47 p. m.    <DIR>          ejemplo\n",
      "23/07/2021  10:44 a. m.    <DIR>          harvard-oxford\n",
      "12/08/2021  08:08 p. m.             4.850 HO - AAL - atlas difference-Inverse.ipynb\n",
      "04/08/2021  09:36 p. m.             4.853 HO - AAL - atlas difference.ipynb\n",
      "30/01/2020  11:52 a. m.         3.219.212 MNI152_T1_1mm_brain.nii.gz\n",
      "13/07/2021  08:47 p. m.            13.020 neuro-comparison-HO.csv\n",
      "09/09/2021  06:14 p. m.           113.721 new aal atlas.ipynb\n",
      "22/07/2021  09:16 p. m.    <DIR>          new atlas\n",
      "13/07/2021  06:57 p. m.    <DIR>          otros atlas\n",
      "15/07/2021  08:21 p. m.             5.503 regions-comparison-interest.json\n",
      "01/07/2021  09:21 a. m.             3.272 regions-comparison.json\n",
      "28/04/2021  08:37 a. m.             6.141 rewarp-desikan-killiany.py\n",
      "29/07/2021  02:27 p. m.    <DIR>          sample warp\n",
      "30/06/2021  08:21 p. m.    <DIR>          sample_subject_vol\n",
      "22/07/2021  08:20 p. m.    <DIR>          tests_atlas\n",
      "07/09/2021  05:39 p. m.            56.041 Untitled.ipynb\n",
      "              29 archivos     11.135.834 bytes\n",
      "              11 dirs   2.217.951.232 bytes libres\n"
     ]
    }
   ],
   "source": [
    "!dir"
   ]
  },
  {
   "cell_type": "code",
   "execution_count": 3,
   "metadata": {
    "scrolled": true
   },
   "outputs": [
    {
     "name": "stdout",
     "output_type": "stream",
     "text": [
      "volumen MNI 152:  1827095\n",
      "volumen todo archivo:  7221032\n"
     ]
    }
   ],
   "source": [
    "template = nib.load('MNI152_T1_1mm_brain.nii.gz').get_fdata()\n",
    "MNI_vol = (template>0).sum()\n",
    "print('volumen MNI 152: ', (template>0).sum())\n",
    "print('volumen todo archivo: ', (template>-1).sum())"
   ]
  },
  {
   "cell_type": "code",
   "execution_count": 4,
   "metadata": {},
   "outputs": [
    {
     "name": "stdout",
     "output_type": "stream",
     "text": [
      "desikan reg:  23562\n",
      "desikan reg norm:  0.012895881166551274\n"
     ]
    }
   ],
   "source": [
    "desikan = nib.load('atlas_desikan_killiany.nii.gz').get_fdata()\n",
    "num_region = 1028\n",
    "desikan_reg = (desikan==num_region).sum()\n",
    "print('desikan reg: ', desikan_reg)\n",
    "print('desikan reg norm: ', (desikan_reg/MNI_vol))"
   ]
  },
  {
   "cell_type": "code",
   "execution_count": 5,
   "metadata": {},
   "outputs": [
    {
     "name": "stdout",
     "output_type": "stream",
     "text": [
      "new desikan reg:  1213\n",
      "new desikan reg norm:  0.0006638954186837575\n"
     ]
    }
   ],
   "source": [
    "\n",
    "desikan_new = nib.load('desikan_seg.nii.gz').get_fdata()\n",
    "num_region = 18\n",
    "desikan_reg_n = (desikan_new==num_region).sum()\n",
    "print('new desikan reg: ', desikan_reg_n)\n",
    "print('new desikan reg norm: ', desikan_reg_n/MNI_vol)"
   ]
  },
  {
   "cell_type": "code",
   "execution_count": 6,
   "metadata": {},
   "outputs": [],
   "source": [
    "harvard_oxford_cor = nib.load(os.path.join('harvard-oxford', 'HarvardOxford-cortl-maxprob-thr25-1mm.nii.gz')).get_fdata()\n",
    "harvard_oxford_sub = nib.load(os.path.join('harvard-oxford', 'HarvardOxford-sub-maxprob-thr50-1mm.nii.gz')).get_fdata()"
   ]
  },
  {
   "cell_type": "code",
   "execution_count": 7,
   "metadata": {},
   "outputs": [
    {
     "name": "stdout",
     "output_type": "stream",
     "text": [
      "harvard cort region:  5906\n",
      "harvard cort region norm:  0.0032324537038303973\n"
     ]
    }
   ],
   "source": [
    "num_h_cort_reg = 51\n",
    "harvard_cort_reg = (harvard_oxford_cor == num_h_cort_reg).sum()\n",
    "print('harvard cort region: ', harvard_cort_reg)\n",
    "print('harvard cort region norm: ', (harvard_cort_reg/MNI_vol))"
   ]
  },
  {
   "cell_type": "code",
   "execution_count": 8,
   "metadata": {},
   "outputs": [
    {
     "name": "stdout",
     "output_type": "stream",
     "text": [
      "harvard sub region:  2272\n",
      "harvard sub region norm:  0.001243504032357376\n"
     ]
    }
   ],
   "source": [
    "num_sub_reg = 20\n",
    "harvard_sub_reg = (harvard_oxford_sub == num_sub_reg).sum()\n",
    "print('harvard sub region: ', harvard_sub_reg)\n",
    "print('harvard sub region norm: ', (harvard_sub_reg/MNI_vol))"
   ]
  },
  {
   "cell_type": "code",
   "execution_count": 9,
   "metadata": {},
   "outputs": [],
   "source": [
    "def add_one_vox_pad(vol):\n",
    "    h,w,k=vol.shape\n",
    "    new_vol = np.zeros((h+1,w+1,k+1))\n",
    "    new_vol[:h,:w,:k]=vol\n",
    "    return new_vol"
   ]
  },
  {
   "cell_type": "code",
   "execution_count": null,
   "metadata": {},
   "outputs": [],
   "source": []
  },
  {
   "cell_type": "code",
   "execution_count": 10,
   "metadata": {},
   "outputs": [],
   "source": [
    "#aal = add_one_vox_pad(nib.load('new atlas/AAL3v1_for_SPM12 (1)/AAL3/ROI_MNI_V7_1mm.nii').get_fdata())\n",
    "aal = nib.load('aal_transformed_roi.nii.gz').get_fdata()\n",
    "aicha = add_one_vox_pad(nib.load('new atlas/AICHA_v2/AICHA/AICHA1mm.nii').get_fdata())\n",
    "destrieux = nib.load('otros atlas/atlas_destrieux.nii.gz').get_fdata()\n",
    "#neuro = nib.load('atlas_correc/neuromorphometrics_seg.nii.gz').get_fdata()"
   ]
  },
  {
   "cell_type": "code",
   "execution_count": 11,
   "metadata": {},
   "outputs": [
    {
     "name": "stdout",
     "output_type": "stream",
     "text": [
      "[[0. 1.]\n",
      " [1. 1.]\n",
      " [2. 1.]]\n"
     ]
    }
   ],
   "source": [
    "from nibabel.orientations import apply_orientation, io_orientation, ornt_transform\n",
    "aal_raw = nib.load('new atlas/AAL3v1_for_SPM12 (1)/AAL3/ROI_MNI_V7_1mm.nii')\n",
    "aal_affine = aal_raw.affine\n",
    "io_aal = io_orientation(aal_affine)\n",
    "\n",
    "print(io_aal)\n",
    "\n"
   ]
  },
  {
   "cell_type": "code",
   "execution_count": 12,
   "metadata": {},
   "outputs": [],
   "source": [
    "ho_raw = nib.load(os.path.join('harvard-oxford', 'HarvardOxford-sub-maxprob-thr50-1mm.nii.gz'))\n",
    "io_ho = io_orientation(ho_raw.affine)\n",
    "transform = ornt_transform(io_aal,io_ho)\n",
    "aal_transformed = add_one_vox_pad(apply_orientation(aal_raw.get_fdata(), transform))"
   ]
  },
  {
   "cell_type": "code",
   "execution_count": 13,
   "metadata": {},
   "outputs": [
    {
     "data": {
      "text/plain": [
       "<matplotlib.image.AxesImage at 0x1fac753a6a0>"
      ]
     },
     "execution_count": 13,
     "metadata": {},
     "output_type": "execute_result"
    },
    {
     "data": {
      "image/png": "[encoded data removed]",
      "text/plain": [
       "<Figure size 432x288 with 1 Axes>"
      ]
     },
     "metadata": {
      "needs_background": "light"
     },
     "output_type": "display_data"
    }
   ],
   "source": [
    "plt.imshow(aal_transformed[100,:,:])"
   ]
  },
  {
   "cell_type": "code",
   "execution_count": null,
   "metadata": {},
   "outputs": [],
   "source": []
  },
  {
   "cell_type": "markdown",
   "metadata": {},
   "source": [
    "## 2 Compute dice score between HO and DKT regions\n",
    "We'll use binary masks to compute the dice score between a HO and a DKT region as $$ IoU(A,B) = \\frac{A\\cap B}{A\\cup B} $$"
   ]
  },
  {
   "cell_type": "code",
   "execution_count": 14,
   "metadata": {},
   "outputs": [],
   "source": [
    "def IoU(A,B):\n",
    "    union = ((A+B)>0).astype(np.uint8)\n",
    "    intersection = A*B\n",
    "    return intersection.sum() / union.sum()"
   ]
  },
  {
   "cell_type": "code",
   "execution_count": 15,
   "metadata": {},
   "outputs": [],
   "source": [
    "def dice_score(A,B):\n",
    "    intersection = A*B\n",
    "    num_elems = A.sum() + B.sum()\n",
    "    return 2*intersection.sum() / num_elems"
   ]
  },
  {
   "cell_type": "code",
   "execution_count": 16,
   "metadata": {},
   "outputs": [],
   "source": [
    "def probability_ref_A(A,B):\n",
    "    intersection = A*B\n",
    "    num_elems = A.sum()\n",
    "    return intersection.sum() / num_elems"
   ]
  },
  {
   "cell_type": "code",
   "execution_count": 17,
   "metadata": {},
   "outputs": [],
   "source": [
    "def probability_ref_B(A,B):\n",
    "    intersection = A*B\n",
    "    num_elems = B.sum()\n",
    "    return intersection.sum() / num_elems"
   ]
  },
  {
   "cell_type": "code",
   "execution_count": 18,
   "metadata": {},
   "outputs": [],
   "source": [
    "def select_atlas(atlas_name, atlases=[harvard_oxford_cor, harvard_oxford_sub, desikan_new,\n",
    "                                     aal, aicha, destrieux]):\n",
    "    if atlas_name=='harvard-cortical':\n",
    "        return atlases[0]\n",
    "    if atlas_name=='harvard-sub':\n",
    "        return atlases[1]\n",
    "    if atlas_name=='desikan':\n",
    "        return atlases[2]\n",
    "    if atlas_name=='aal':\n",
    "        return atlases[3]\n",
    "    if atlas_name=='aicha':\n",
    "        return atlases[4]\n",
    "    if atlas_name=='destrieux':\n",
    "        return atlases[5]\n",
    "    #if atlas_name=='neuro':\n",
    "     #   return atlases[6]"
   ]
  },
  {
   "cell_type": "code",
   "execution_count": 19,
   "metadata": {},
   "outputs": [],
   "source": [
    "def obtain_region_mask(region_group, template=template):\n",
    "    mask = np.zeros(template.shape)\n",
    "    for r in region_group:\n",
    "        atlas = select_atlas(r['atlas'])\n",
    "        num = r['region_number']\n",
    "        mask+=((atlas==num).astype(np.uint8))\n",
    "    return (mask>0).astype(np.uint8)"
   ]
  },
  {
   "cell_type": "code",
   "execution_count": 20,
   "metadata": {},
   "outputs": [],
   "source": [
    "def compare_region_groups(A,B):\n",
    "    gA = obtain_region_mask(A)\n",
    "    gB = obtain_region_mask(B)\n",
    "    return dice_score(gA, gB), IoU(gA,gB), probability_ref_A(gA, gB), probability_ref_B(gA, gB)"
   ]
  },
  {
   "cell_type": "code",
   "execution_count": 21,
   "metadata": {},
   "outputs": [],
   "source": [
    "def obtain_region_volume(A):\n",
    "    gA = obtain_region_mask(A)\n",
    "    return gA.sum()"
   ]
  },
  {
   "cell_type": "code",
   "execution_count": 22,
   "metadata": {},
   "outputs": [],
   "source": [
    "rA = [{'region_name': 'left amygdala', 'region_number': 10, 'atlas':'harvard-sub'}]\n",
    "rB = [{'region_name': 'left amygdala', 'region_number': 18, 'atlas':'desikan'}]"
   ]
  },
  {
   "cell_type": "code",
   "execution_count": 23,
   "metadata": {},
   "outputs": [
    {
     "data": {
      "text/plain": [
       "(0.6491392801251956,\n",
       " 0.48053753475440225,\n",
       " 0.5232088799192735,\n",
       " 0.8549051937345424)"
      ]
     },
     "execution_count": 23,
     "metadata": {},
     "output_type": "execute_result"
    }
   ],
   "source": [
    "compare_region_groups(rA, rB)"
   ]
  },
  {
   "cell_type": "code",
   "execution_count": 24,
   "metadata": {},
   "outputs": [
    {
     "data": {
      "text/plain": [
       "(0.6491392801251956,\n",
       " 0.48053753475440225,\n",
       " 0.5232088799192735,\n",
       " 0.8549051937345424)"
      ]
     },
     "execution_count": 24,
     "metadata": {},
     "output_type": "execute_result"
    }
   ],
   "source": [
    "rA = [{'region_name': 'right amygdala', 'region_number': 10, 'atlas':'harvard-sub'}]\n",
    "rB = [{'region_name': 'right amygdala', 'region_number': 18, 'atlas':'desikan'}]\n",
    "compare_region_groups(rA, rB)"
   ]
  },
  {
   "cell_type": "code",
   "execution_count": 25,
   "metadata": {},
   "outputs": [
    {
     "data": {
      "text/plain": [
       "(0.24954067145481879,\n",
       " 0.14255725190839694,\n",
       " 0.18467243510506798,\n",
       " 0.3846549948506694)"
      ]
     },
     "execution_count": 25,
     "metadata": {},
     "output_type": "execute_result"
    }
   ],
   "source": [
    "rA = [{'region_name': 'left frontal medial cortex', 'region_number': 50, 'atlas':'harvard-cortical'}]\n",
    "rB = [{'region_name': 'ctx-lh-medialorbitofrontal', 'region_number': 2014, 'atlas':'desikan'}]\n",
    "compare_region_groups(rA, rB)"
   ]
  },
  {
   "cell_type": "code",
   "execution_count": 26,
   "metadata": {},
   "outputs": [
    {
     "data": {
      "text/plain": [
       "<matplotlib.image.AxesImage at 0x1fac75ee520>"
      ]
     },
     "execution_count": 26,
     "metadata": {},
     "output_type": "execute_result"
    },
    {
     "data": {
      "image/png": "[encoded data removed]",
      "text/plain": [
       "<Figure size 432x288 with 1 Axes>"
      ]
     },
     "metadata": {
      "needs_background": "light"
     },
     "output_type": "display_data"
    }
   ],
   "source": [
    "plt.imshow(aal[100,:,:])"
   ]
  },
  {
   "cell_type": "code",
   "execution_count": 27,
   "metadata": {},
   "outputs": [
    {
     "data": {
      "text/plain": [
       "<matplotlib.image.AxesImage at 0x1fac764baf0>"
      ]
     },
     "execution_count": 27,
     "metadata": {},
     "output_type": "execute_result"
    },
    {
     "data": {
      "image/png": "[encoded data removed]",
      "text/plain": [
       "<Figure size 432x288 with 1 Axes>"
      ]
     },
     "metadata": {
      "needs_background": "light"
     },
     "output_type": "display_data"
    }
   ],
   "source": [
    "plt.imshow(aicha[100,:,:])"
   ]
  },
  {
   "cell_type": "code",
   "execution_count": 28,
   "metadata": {},
   "outputs": [
    {
     "data": {
      "text/plain": [
       "<matplotlib.image.AxesImage at 0x1fac76a93d0>"
      ]
     },
     "execution_count": 28,
     "metadata": {},
     "output_type": "execute_result"
    },
    {
     "data": {
      "image/png": "[encoded data removed]",
      "text/plain": [
       "<Figure size 432x288 with 1 Axes>"
      ]
     },
     "metadata": {
      "needs_background": "light"
     },
     "output_type": "display_data"
    }
   ],
   "source": [
    "plt.imshow(harvard_oxford_sub[100,:,:])"
   ]
  },
  {
   "cell_type": "markdown",
   "metadata": {},
   "source": [
    "## 3. Load json to do the experiment in a group of regions"
   ]
  },
  {
   "cell_type": "code",
   "execution_count": 31,
   "metadata": {},
   "outputs": [],
   "source": [
    "with open('aal_ho_difference.json') as f:\n",
    "    data = json.load(f)"
   ]
  },
  {
   "cell_type": "code",
   "execution_count": 38,
   "metadata": {},
   "outputs": [],
   "source": [
    "def process_region(final_num, atlas, region_num):\n",
    "    return final_num*((atlas==region_num).astype(np.uint8))"
   ]
  },
  {
   "cell_type": "code",
   "execution_count": 47,
   "metadata": {},
   "outputs": [],
   "source": [
    "new_atlas = np.zeros(aal_transformed.shape)\n",
    "aal_dif_df = {\"name\":[], \"index\":[]}\n",
    "for i, r in enumerate(data):\n",
    "    region_data = data[r]\n",
    "    ho_data = region_data[\"A\"][0]\n",
    "    for ri in region_data[\"B\"]:\n",
    "        partial_vol=process_region(i+1, aal_transformed, ri[\"region_number\"])\n",
    "        new_atlas+=partial_vol\n",
    "    aal_dif_df[\"name\"].append(ho_data[\"region_name\"])\n",
    "    aal_dif_df[\"index\"].append(i+1)\n",
    "aal_dif_df = pd.DataFrame(aal_dif_df).to_csv(\"aal_combined.csv\", index=False)"
   ]
  },
  {
   "cell_type": "code",
   "execution_count": 48,
   "metadata": {},
   "outputs": [],
   "source": [
    "new_atlas_nifti = nib.Nifti1Image(new_atlas, ho_raw.affine)\n",
    "nib.save(new_atlas_nifti, 'aal_combined.nii.gz')"
   ]
  },
  {
   "cell_type": "code",
   "execution_count": null,
   "metadata": {},
   "outputs": [],
   "source": []
  }
 ],
 "metadata": {
  "kernelspec": {
   "display_name": "Python 3",
   "language": "python",
   "name": "python3"
  },
  "language_info": {
   "codemirror_mode": {
    "name": "ipython",
    "version": 3
   },
   "file_extension": ".py",
   "mimetype": "text/x-python",
   "name": "python",
   "nbconvert_exporter": "python",
   "pygments_lexer": "ipython3",
   "version": "3.8.2"
  }
 },
 "nbformat": 4,
 "nbformat_minor": 4
}
